{
 "cells": [
  {
   "cell_type": "markdown",
   "id": "da298316-a2fd-4660-a221-8aaf419e868b",
   "metadata": {},
   "source": [
    "# Bonus\n",
    "## Koorosh Shakoori\n",
    "The assignment is to define a function that can determine if a matrix is in row echelon form or not\n",
    "\n"
   ]
  },
  {
   "cell_type": "code",
   "execution_count": 1,
   "id": "d484d01c-336d-4757-93b5-26bf613a14cd",
   "metadata": {},
   "outputs": [],
   "source": [
    "# we import numpy as our matrices will be in form of numpy arrays\n",
    "import numpy as np"
   ]
  },
  {
   "cell_type": "code",
   "execution_count": 4,
   "id": "cc979cc7-dd69-4b4e-b3c1-de60493c0982",
   "metadata": {},
   "outputs": [],
   "source": [
    "#the function below will check for all the conditions in a matrix in echelon form\n",
    "#then it will proceed to print if the matrix is in echelon form or not\n",
    "\n",
    "def is_echelon(x):\n",
    "    nrows , ncols = x.shape\n",
    "    row = 0\n",
    "    echelon = True\n",
    "    \n",
    "    #in this solution we iterate through the matrix on columns and check if the conditions are met or not\n",
    "    #to achieve this a boolean variable named 'echelon' is defined, used to capture the state of the matrix\n",
    "    for col in range(ncols):\n",
    "        if row <= nrows - 1:\n",
    "            #this first if statement checks if the value is not a leading entry of 1 value or 0\n",
    "            #if it is not the loop is immediately broken since it does not satisfy the conditions for an echelon form matrix\n",
    "            if x[row][col] in (0, 1):\n",
    "\n",
    "                #this conditional statements checks if the value of the element is zero and if so, it checks for the values below\n",
    "                #if true the loop continues to the next column on the same row and if not it will halt the loop\n",
    "                if x[row][col] == 0:\n",
    "                    if x[row+1:, col].any():\n",
    "                        echelon = False\n",
    "                        break\n",
    "                    else:\n",
    "                        continue\n",
    "\n",
    "                #this conditional statement is the same as above for value 1. however after checking the elements below, if conditions met\n",
    "                #we jump to the next column as well as next row using the row variable\n",
    "                elif x[row][col] == 1:\n",
    "                    if x[row+1:, col].any():\n",
    "                        echelon = False\n",
    "                        break\n",
    "                    else:\n",
    "                        row += 1\n",
    "                        continue\n",
    "            else:\n",
    "                echelon = False\n",
    "                break\n",
    "        else:\n",
    "            break\n",
    "                \n",
    "    if echelon:\n",
    "        print('the matrix is in echelon form')\n",
    "        \n",
    "    else:\n",
    "        print('the matrix is not in echelon form')\n",
    "        "
   ]
  },
  {
   "cell_type": "code",
   "execution_count": 5,
   "id": "bd4e0f5e-c177-4d84-a586-fb3ea7bad823",
   "metadata": {},
   "outputs": [
    {
     "name": "stdout",
     "output_type": "stream",
     "text": [
      "the matrix is in echelon form\n"
     ]
    }
   ],
   "source": [
    "#in this cell we can check the funcionality of the function above\n",
    "#test is the matrix we want to check for echelon form and it needs to be in numpy array format\n",
    "test = np.array([[0, 1, 5, 2, 1],\n",
    "                 [0, 0, 0, 1, 3],\n",
    "                 [0, 0, 0, 0, 1],\n",
    "                 [0, 0, 0, 0, 0]])\n",
    "is_echelon(test)"
   ]
  }
 ],
 "metadata": {
  "kernelspec": {
   "display_name": "Python 3 (ipykernel)",
   "language": "python",
   "name": "python3"
  },
  "language_info": {
   "codemirror_mode": {
    "name": "ipython",
    "version": 3
   },
   "file_extension": ".py",
   "mimetype": "text/x-python",
   "name": "python",
   "nbconvert_exporter": "python",
   "pygments_lexer": "ipython3",
   "version": "3.8.15"
  }
 },
 "nbformat": 4,
 "nbformat_minor": 5
}
